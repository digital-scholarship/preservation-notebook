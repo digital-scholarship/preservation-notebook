{
 "cells": [
  {
   "cell_type": "markdown",
   "metadata": {},
   "source": [
    "# Preservation Notebook"
   ]
  },
  {
   "cell_type": "markdown",
   "metadata": {},
   "source": [
    "This is a test notebook to examine functionality of Jupyter notebooks for teaching digital preservation.\n",
    "\n",
    "We will be looking at two tools - [https://github.com/LibraryOfCongress/bagit-python](bagit-python) and exiftool. \n",
    "\n",
    "This is an interactive notebook that lets you run python and command line instructions from within a web browser. You will note that there are instructions below as well as cells that have code in them. To run the code you need to hold the shift key while clicking on the enter (or return) button. Alternatively, if you are running the live notebook, you can choose the Cell menu above and choose Run Cells or even Run All (but that ruins the suspense).\n",
    "\n",
    "When you run a cell, the output of the commands (if any) will be shown below the cell.\n",
    "\n",
    "You can make changes to the code from within this notebook and run the cell again to see the new output - feel free to play, you can't break it!\n",
    "\n",
    "We'll start off looking at python-bagit.\n",
    "\n"
   ]
  },
  {
   "cell_type": "markdown",
   "metadata": {},
   "source": [
    "### Import Bagit\n",
    "This first thing we need to do is to import the bagit code into our notebook. This is a common way to add functionality to python scripts. There are modules for just about everything in Python. The code to import bagit is shown below - pretty simple isn't it? \n",
    "\n",
    "Go ahead and run the cell by selecting it and then shift-enter (or shift-return)."
   ]
  },
  {
   "cell_type": "code",
   "execution_count": null,
   "metadata": {},
   "outputs": [],
   "source": [
    "import bagit"
   ]
  },
  {
   "cell_type": "markdown",
   "metadata": {},
   "source": [
    "### Setting up our directory and files\n",
    "Before we can create our first bag, there is a little bit of setting up we need to do. We are going to create a directory on our disk that we will use as the basis for the bag. We'll call the directory ''bagdir_a'' and we will first move some files into the directory. \n",
    "\n",
    "In Jupyter notebooks we can call the command line directly by putting a ! sign in front of the command. If you were working directly on the command line you do not need the !. The first command below creates a directory and the second copies a couple of files into it."
   ]
  },
  {
   "cell_type": "code",
   "execution_count": null,
   "metadata": {
    "collapsed": true
   },
   "outputs": [],
   "source": [
    "# make the directory\n",
    "!mkdir bagdir_a\n",
    "\n",
    "#copy two files into the directory\n",
    "!cp files/testdoc.txt bagdir_a\n",
    "!cp files/tux.png bagdir_a"
   ]
  },
  {
   "cell_type": "markdown",
   "metadata": {},
   "source": [
    "We can list the files in the directory using the **ls** command:"
   ]
  },
  {
   "cell_type": "code",
   "execution_count": null,
   "metadata": {},
   "outputs": [],
   "source": [
    "!ls bagdir_a"
   ]
  },
  {
   "cell_type": "markdown",
   "metadata": {},
   "source": [
    "There should be two files in the directory - a text file and a png image file. \n",
    "\n",
    "### Creating a Bag in place\n",
    "We will now create a bag in place. This is done using the **make_bag** command. Note that the command requires you to enter some extra information called arguments. The first argument is the location of the directory that are using for the bag, in this case it is **bagdir_a**. We can also add some metadata to the bag at the same time as we create it. In this case we are going to add some metadata for *Contact-Name* and *Soure-Organization*. Run the following code block to create the bag."
   ]
  },
  {
   "cell_type": "code",
   "execution_count": null,
   "metadata": {
    "collapsed": true
   },
   "outputs": [],
   "source": [
    "bag = bagit.make_bag('bagdir_a', {'Contact-Name': 'Wiley Coyote','Source-Organization': 'ACME'})"
   ]
  },
  {
   "cell_type": "markdown",
   "metadata": {},
   "source": [
    "The line above also created a reference to our bag and stored this in the variable **bag**. We can now use this variable any time we want to refer to our bag. For example we can have a look at the info in the bag. \n",
    "\n",
    "Note that the data returned is a Python data list(check). It should be self-explainitory, but note that the u refers to a unicode string."
   ]
  },
  {
   "cell_type": "code",
   "execution_count": null,
   "metadata": {},
   "outputs": [],
   "source": [
    "bag.info"
   ]
  },
  {
   "cell_type": "markdown",
   "metadata": {},
   "source": [
    "You can also change this info. Try the following and see how the metadata changes. Try changing the code below and re-running to add different metadata. You can add any metadata you like, but you need to think how this metadata will be used in your system. Note that the bagger file format has some reserved fields (we've been using some of these already). See the [full list](full list). For example, you could add metadata for **Contact-Phone**, **Contact-Email**, **External-Description**. Or you could have your own metadata eg **My-Library-Bib-Number**."
   ]
  },
  {
   "cell_type": "code",
   "execution_count": null,
   "metadata": {
    "collapsed": true
   },
   "outputs": [],
   "source": [
    "bag.info['Authors'] = \"Road Runner\"\n",
    "\n",
    "#and print the info again\n",
    "bag.info"
   ]
  },
  {
   "cell_type": "code",
   "execution_count": null,
   "metadata": {},
   "outputs": [],
   "source": [
    "!ls bagdir_a"
   ]
  },
  {
   "cell_type": "markdown",
   "metadata": {},
   "source": [
    "OK. There's been quite a changes. For a start our two files are not listed! But have a look in the data directory. You can list the contents of a directory by using the **ls** command:\n",
    "\n"
   ]
  },
  {
   "cell_type": "code",
   "execution_count": null,
   "metadata": {},
   "outputs": [],
   "source": [
    "!ls bagdir_a/data/"
   ]
  },
  {
   "cell_type": "markdown",
   "metadata": {},
   "source": [
    "Let's have a look at the contents of some of the files. The bag-info.txt looks interesting. The **cat** command can display the contents of a file."
   ]
  },
  {
   "cell_type": "code",
   "execution_count": null,
   "metadata": {},
   "outputs": [],
   "source": [
    "!cat bagdir_a/bag-info.txt"
   ]
  },
  {
   "cell_type": "markdown",
   "metadata": {},
   "source": [
    "Let's have a look at some of those files. \n",
    "\n",
    "* Click here to see the [bag-info.txt](bagdir_a/bag-info.txt) file\n",
    "* Click here to see the [bagit.txt](bagdir_a/bagit.txt) file"
   ]
  },
  {
   "cell_type": "markdown",
   "metadata": {},
   "source": [
    "Let's have a look at the other files."
   ]
  },
  {
   "cell_type": "code",
   "execution_count": null,
   "metadata": {},
   "outputs": [],
   "source": [
    "!cat bagdir_a/manifest-sha256.txt"
   ]
  },
  {
   "cell_type": "markdown",
   "metadata": {},
   "source": [
    "These are the sha256 checksums for each file in our bag.\n",
    "\n",
    "### Validate a bag\n",
    "Remember we are working in Python and have our bag stored in a variable called **bag**. Validating is very easy:"
   ]
  },
  {
   "cell_type": "code",
   "execution_count": null,
   "metadata": {},
   "outputs": [],
   "source": [
    "bag.validate()"
   ]
  },
  {
   "cell_type": "markdown",
   "metadata": {},
   "source": [
    "What happens if we modify one of the files (and hence make our bag invalid). Run the following code which adds another line to the end of the testdoc.txt file."
   ]
  },
  {
   "cell_type": "code",
   "execution_count": null,
   "metadata": {},
   "outputs": [],
   "source": [
    "!echo \"another line\" >> bagdir_a/data/testdoc.txt"
   ]
  },
  {
   "cell_type": "markdown",
   "metadata": {},
   "source": [
    "Now let's see what happens when we run validate again."
   ]
  },
  {
   "cell_type": "code",
   "execution_count": null,
   "metadata": {
    "collapsed": true
   },
   "outputs": [],
   "source": [
    "bag.validate()"
   ]
  },
  {
   "cell_type": "markdown",
   "metadata": {},
   "source": [
    "## Exiftool\n",
    "We are now going to look at another tool (TODO move to a new notebook)\n",
    "\n",
    "We can print out the version of exiftool that we are using. Again, you click shift-enter (or shift-return).\n",
    "Click on the help menu item above if you are having trouble."
   ]
  },
  {
   "cell_type": "code",
   "execution_count": null,
   "metadata": {
    "collapsed": true
   },
   "outputs": [],
   "source": [
    "## this imports the tool we need - in this case a Python wrapper around the ExifTool\n",
    "import pyexifinfo as e\n"
   ]
  },
  {
   "cell_type": "markdown",
   "metadata": {},
   "source": [
    "We can get the metadata for a single image with this command - try changing the image to tux.svg (which is a different file)"
   ]
  },
  {
   "cell_type": "code",
   "execution_count": null,
   "metadata": {},
   "outputs": [],
   "source": [
    "e.get_json('tux.png')"
   ]
  }
 ],
 "metadata": {
  "kernelspec": {
   "display_name": "Python 2",
   "language": "python",
   "name": "python2"
  },
  "language_info": {
   "codemirror_mode": {
    "name": "ipython",
    "version": 2
   },
   "file_extension": ".py",
   "mimetype": "text/x-python",
   "name": "python",
   "nbconvert_exporter": "python",
   "pygments_lexer": "ipython2",
   "version": "2.7.13"
  }
 },
 "nbformat": 4,
 "nbformat_minor": 2
}
