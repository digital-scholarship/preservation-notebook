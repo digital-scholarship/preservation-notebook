{
 "cells": [
  {
   "cell_type": "markdown",
   "metadata": {},
   "source": [
    "### Preservation Notebook\n",
    "\n",
    "This is a test to see if we can do some things with exiftool and bagit.\n",
    "\n",
    "You can edit code here and the changes will run. To run a cell below you hit shift-enter (or shift-return)\n",
    "\n"
   ]
  },
  {
   "cell_type": "markdown",
   "metadata": {},
   "source": [
    "## Import Bagit\n",
    "This step imports the bagit module into this notebook. We need this to do anything with bagit"
   ]
  },
  {
   "cell_type": "code",
   "execution_count": 3,
   "metadata": {
    "collapsed": true
   },
   "outputs": [],
   "source": [
    "import bagit"
   ]
  },
  {
   "cell_type": "markdown",
   "metadata": {},
   "source": [
    "### Create a bag in place\n",
    "We are going to create a directory on our disk to use for making the bag. The directory is called ''bagdir_a'' and we wil first move some files into the directory. "
   ]
  },
  {
   "cell_type": "code",
   "execution_count": 4,
   "metadata": {},
   "outputs": [],
   "source": [
    "# make the directory\n",
    "%mkdir bagdir_a\n",
    "\n",
    "#copy two files into the directory\n",
    "%cp files/testdoc.txt bagdir_a\n",
    "%cp files/tux.png bagdir_a"
   ]
  },
  {
   "cell_type": "markdown",
   "metadata": {},
   "source": [
    "We can list the files in the directory:"
   ]
  },
  {
   "cell_type": "code",
   "execution_count": 5,
   "metadata": {},
   "outputs": [
    {
     "name": "stdout",
     "output_type": "stream",
     "text": [
      "testdoc.txt  tux.png\r\n"
     ]
    }
   ],
   "source": [
    "%ls bagdir_a"
   ]
  },
  {
   "cell_type": "markdown",
   "metadata": {},
   "source": [
    "We will now create a bag in place. This is the default action when you use the command below. We will also add some metadata to the bag at the same time."
   ]
  },
  {
   "cell_type": "code",
   "execution_count": 6,
   "metadata": {
    "collapsed": true
   },
   "outputs": [],
   "source": [
    "bag = bagit.make_bag('bagdir_a', {'Contact-Name': 'Wiley Coyote','Source-Organization': 'ACME'})"
   ]
  },
  {
   "cell_type": "code",
   "execution_count": 7,
   "metadata": {},
   "outputs": [
    {
     "name": "stdout",
     "output_type": "stream",
     "text": [
      "bag-info.txt            manifest-sha256.txt     tagmanifest-sha512.txt\r\n",
      "bagit.txt               manifest-sha512.txt\r\n",
      "\u001b[34mdata\u001b[m\u001b[m/                   tagmanifest-sha256.txt\r\n"
     ]
    }
   ],
   "source": [
    "%ls bagdir_a"
   ]
  },
  {
   "cell_type": "markdown",
   "metadata": {},
   "source": [
    "OK. There's been quite a change in there. For a start our two files are not listed! Have a look in the data directory:\n",
    "\n"
   ]
  },
  {
   "cell_type": "code",
   "execution_count": 10,
   "metadata": {},
   "outputs": [
    {
     "name": "stdout",
     "output_type": "stream",
     "text": [
      "testdoc.txt  tux.png\r\n"
     ]
    }
   ],
   "source": [
    "%ls bagdir_a/data/"
   ]
  },
  {
   "cell_type": "code",
   "execution_count": 11,
   "metadata": {},
   "outputs": [
    {
     "name": "stdout",
     "output_type": "stream",
     "text": [
      "Bag-Software-Agent: bagit.py v1.7.0 <https://github.com/LibraryOfCongress/bagit-python>\r\n",
      "Bagging-Date: 2019-05-22\r\n",
      "Contact-Name: Wiley Coyote\r\n",
      "Payload-Oxum: 87619.2\r\n",
      "Source-Organization: ACME\r\n"
     ]
    }
   ],
   "source": [
    "%cat bagdir_a/bag-info.txt"
   ]
  },
  {
   "cell_type": "markdown",
   "metadata": {},
   "source": [
    "Let's have a look at some of those files. \n",
    "\n",
    "* Click here to see the [bag-info.txt](bagdir_a/bag-info.txt) file\n",
    "* Click here to see the [bagit.txt](bagdir_a/bagit.txt) file"
   ]
  },
  {
   "cell_type": "markdown",
   "metadata": {},
   "source": [
    "# Exiftool\n",
    "We are now going to look at another tool (TODO move to a new notebook)\n",
    "\n",
    "We can print out the version of exiftool that we are using. Again, you click shift-enter (or shift-return).\n",
    "Click on the help menu item above if you are having trouble."
   ]
  },
  {
   "cell_type": "code",
   "execution_count": null,
   "metadata": {
    "collapsed": true
   },
   "outputs": [],
   "source": [
    "## this imports the tool we need - in this case a Python wrapper around the ExifTool\n",
    "import pyexifinfo as e\n"
   ]
  },
  {
   "cell_type": "code",
   "execution_count": null,
   "metadata": {
    "collapsed": true
   },
   "outputs": [],
   "source": [
    "e.ver()"
   ]
  },
  {
   "cell_type": "markdown",
   "metadata": {},
   "source": [
    "We can get the metadata for a single image with this command - try changing the image to tux.svg (which is a different file)"
   ]
  },
  {
   "cell_type": "code",
   "execution_count": null,
   "metadata": {
    "collapsed": true
   },
   "outputs": [],
   "source": [
    "e.get_json('tux.png')"
   ]
  },
  {
   "cell_type": "code",
   "execution_count": null,
   "metadata": {
    "collapsed": true
   },
   "outputs": [],
   "source": []
  }
 ],
 "metadata": {
  "kernelspec": {
   "display_name": "Python 2",
   "language": "python",
   "name": "python2"
  },
  "language_info": {
   "codemirror_mode": {
    "name": "ipython",
    "version": 2
   },
   "file_extension": ".py",
   "mimetype": "text/x-python",
   "name": "python",
   "nbconvert_exporter": "python",
   "pygments_lexer": "ipython2",
   "version": "2.7.13"
  }
 },
 "nbformat": 4,
 "nbformat_minor": 2
}
