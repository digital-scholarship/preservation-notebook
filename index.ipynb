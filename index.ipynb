{
 "cells": [
  {
   "cell_type": "markdown",
   "metadata": {},
   "source": [
    "# Preservation Notebook"
   ]
  },
  {
   "cell_type": "markdown",
   "metadata": {},
   "source": [
    "This is a test notebook to examine functionality of Jupyter notebooks for teaching digital preservation.\n",
    "\n",
    "When you have finished exploring this notebook you should have:\n",
    "\n",
    "* Learnt how to install bagit in python\n",
    "* created a new bag\n",
    "* validated a bag\n",
    "* create metadata for a bag\n",
    "\n",
    "We will be looking at two tools - [bagit-python](https://github.com/LibraryOfCongress/bagit-python) and [exiftool](https://www.sno.phy.queensu.ca/~phil/exiftool/). \n",
    "\n",
    "This is an interactive notebook that lets you run python and command line instructions from within a web browser. If you have never used an interactive notebook before you might like to check out [this documentation](https://jupyter-notebook.readthedocs.io/en/stable/notebook.html#notebook-user-interface). \n",
    "\n",
    "You will note below that there are instructions and text as well as cells that have code in them. To run the code in a cell you need to first click on the cell and then hold the shift key while hitting enter (or return) on your keyboard. Alternatively, you can choose the Cell menu above and choose Run Cells or even Run All (but that ruins the suprise).\n",
    "\n",
    "When you run a cell, the output of the commands (if any) will be shown below the cell.\n",
    "\n",
    "You can make changes to the code from within this notebook and run the cell again to see the new output - feel free to play, you can't break it!\n",
    "\n",
    "We'll start off looking at python-bagit.\n",
    "\n"
   ]
  },
  {
   "cell_type": "markdown",
   "metadata": {},
   "source": [
    "### Import Bagit\n",
    "This first thing we need to do is to import the bagit code into our notebook. This is a common way to add functionality to python scripts. There are modules for just about everything in Python. The code to import bagit simply \n",
    "<code>import bagit</code> (pretty simple isn't it?) \n",
    "\n",
    "Go ahead and run the cell by selecting it and then shift-enter (or shift-return). You should see some output after the cell runs."
   ]
  },
  {
   "cell_type": "code",
   "execution_count": null,
   "metadata": {},
   "outputs": [],
   "source": [
    "import bagit\n",
    "\n",
    "# and here is a small test to see if we have it installed.\n",
    "if bagit:\n",
    "    print (\"We have bagit installed!\")\n",
    "else:\n",
    "    print(\"Oops. Something went wrong.\")\n"
   ]
  },
  {
   "cell_type": "markdown",
   "metadata": {},
   "source": [
    "### Setting up our directory and files\n",
    "Before we can create our first bag, there is a little bit of setting up we need to do. We are going to create a directory on our disk that we will use as the basis for the bag. We'll call the directory ''bagdir'' and we will first move some files into the directory. \n",
    "\n",
    "In Jupyter notebooks we can call the command line directly by putting a ! sign in front of the command. If you were working directly on the command line you do not need the !. The first command below creates a directory and the second copies a couple of files into it."
   ]
  },
  {
   "cell_type": "code",
   "execution_count": null,
   "metadata": {
    "scrolled": true
   },
   "outputs": [],
   "source": [
    "# make the directory\n",
    "!mkdir bagdir\n",
    "\n",
    "#copy some files into the directory\n",
    "!cp files/* bagdir/\n",
    "\n",
    "#now list the files in the bagdir directory\n",
    "!ls -G bagdir\n"
   ]
  },
  {
   "cell_type": "markdown",
   "metadata": {},
   "source": [
    "These files come from a corpus of material from [openpreserve](https://github.com/openpreserve/format-corpus)."
   ]
  },
  {
   "cell_type": "markdown",
   "metadata": {},
   "source": [
    "\n",
    "### Creating a Bag in place\n",
    "We will now create a bag in place. This is done using the <code>make_bag</code> command. Note that the command requires you to enter some extra information called arguments. The first argument is the location of the directory that are using for the bag, in this case it is **bagdir**. We can also add some metadata to the bag at the same time as we create it. In this case we are going to add some metadata for *Contact-Name* and *Soure-Organization*. Run the following code block to create the bag."
   ]
  },
  {
   "cell_type": "code",
   "execution_count": null,
   "metadata": {
    "collapsed": true
   },
   "outputs": [],
   "source": [
    "bag = bagit.make_bag('bagdir', {'Contact-Name': 'Wiley Coyote','Source-Organization': 'ACME'})"
   ]
  },
  {
   "cell_type": "markdown",
   "metadata": {},
   "source": [
    "The line above also created a reference to our bag and stored this in the variable **bag**. We can now use this variable any time we want to refer to our bag. For example we can have a look at the info in the bag. \n",
    "\n",
    "Note that the data returned is a Python data list(check). It should be self-explainitory, but note that the u refers to a unicode string."
   ]
  },
  {
   "cell_type": "code",
   "execution_count": null,
   "metadata": {
    "collapsed": true
   },
   "outputs": [],
   "source": [
    "bag.info"
   ]
  },
  {
   "cell_type": "markdown",
   "metadata": {},
   "source": [
    "You can also change this info. Try the following and see how the metadata changes. Try changing the code below and re-running to add different metadata. You can add any metadata you like, but you need to think how this metadata will be used in your system. Note that the bagger file format has some reserved fields (we've been using some of these already). See the [full list](full list). For example, you could add metadata for **Contact-Phone**, **Contact-Email**, **External-Description**. Or you could have your own metadata eg **My-Library-Bib-Number**."
   ]
  },
  {
   "cell_type": "code",
   "execution_count": null,
   "metadata": {
    "collapsed": true
   },
   "outputs": [],
   "source": [
    "bag.info['Authors'] = \"Road Runner\"\n",
    "\n",
    "# and save the information to the bag\n",
    "bag.save()\n",
    "\n",
    "#and print the info again\n",
    "bag.info"
   ]
  },
  {
   "cell_type": "markdown",
   "metadata": {},
   "source": [
    "### Contents of the bag\n",
    "\n",
    "Let's have a look at the contents of our directory with the command below. You should notice that there have been quite a few changes. \n",
    "\n"
   ]
  },
  {
   "cell_type": "code",
   "execution_count": null,
   "metadata": {},
   "outputs": [],
   "source": [
    "!ls -F bagdir"
   ]
  },
  {
   "cell_type": "markdown",
   "metadata": {},
   "source": [
    "Our files have moved into the data directory - this is how a bag is organised. You can check that they are in there by listing the contents of  the data directory:"
   ]
  },
  {
   "cell_type": "code",
   "execution_count": null,
   "metadata": {
    "collapsed": true
   },
   "outputs": [],
   "source": [
    "!ls bagdir/data/"
   ]
  },
  {
   "cell_type": "markdown",
   "metadata": {},
   "source": [
    "And let's look at the content of the bag-info.txt file. It should look familiar."
   ]
  },
  {
   "cell_type": "code",
   "execution_count": null,
   "metadata": {
    "collapsed": true
   },
   "outputs": [],
   "source": [
    "!cat bagdir/bag-info.txt"
   ]
  },
  {
   "cell_type": "markdown",
   "metadata": {},
   "source": [
    "Now let's have a look at one of the manifest files."
   ]
  },
  {
   "cell_type": "code",
   "execution_count": null,
   "metadata": {
    "collapsed": true
   },
   "outputs": [],
   "source": [
    "!cat bagdir/manifest-sha256.txt"
   ]
  },
  {
   "cell_type": "markdown",
   "metadata": {},
   "source": [
    "These are the sha256 checksums for each file in our bag which we will use later to validate that our files have not changed.\n",
    "\n",
    "### Validate a bag\n",
    "Remember we are working in Python and have our bag stored in a variable called **bag**. Validating is very easy:"
   ]
  },
  {
   "cell_type": "code",
   "execution_count": null,
   "metadata": {
    "collapsed": true
   },
   "outputs": [],
   "source": [
    "bag.is_valid()"
   ]
  },
  {
   "cell_type": "markdown",
   "metadata": {},
   "source": [
    "What happens if we modify one of the files (and hence make our bag invalid). Run the following code which adds another line to the end of the testdoc.txt file."
   ]
  },
  {
   "cell_type": "code",
   "execution_count": null,
   "metadata": {
    "collapsed": true
   },
   "outputs": [],
   "source": [
    "!echo \"another line\" >> bagdir/data/README.md"
   ]
  },
  {
   "cell_type": "markdown",
   "metadata": {},
   "source": [
    "Now let's see what happens when we run validate again."
   ]
  },
  {
   "cell_type": "code",
   "execution_count": null,
   "metadata": {
    "collapsed": true
   },
   "outputs": [],
   "source": [
    "bag.is_valid()"
   ]
  },
  {
   "cell_type": "markdown",
   "metadata": {},
   "source": [
    "#### Using checksums to see if files have changed\n",
    "\n",
    "If we want to check whether the files in our data directory have not changed, we can check their checksums. When the bag is created a list of checksums is created, so we can use this file to see if they still match. This is shown below."
   ]
  },
  {
   "cell_type": "code",
   "execution_count": null,
   "metadata": {
    "collapsed": true
   },
   "outputs": [],
   "source": [
    "# change into the bagdir directory\n",
    "!cd bagdir\n",
    "\n",
    "# check our list of checksums\n",
    "!shasum -a 256 -c manifest-sha256.txt "
   ]
  },
  {
   "cell_type": "markdown",
   "metadata": {},
   "source": [
    "You should see a report above showing which files have checksums that match and are OK or if they FAILED and so are not exactly the same file. "
   ]
  },
  {
   "cell_type": "markdown",
   "metadata": {},
   "source": [
    "## Exiftool\n",
    "We are now going to look at another tool (TODO move to a new notebook)\n",
    "\n",
    "We can print out the version of exiftool that we are using. Again, you click shift-enter (or shift-return).\n",
    "Click on the help menu item above if you are having trouble."
   ]
  },
  {
   "cell_type": "code",
   "execution_count": null,
   "metadata": {
    "collapsed": true
   },
   "outputs": [],
   "source": [
    "## this imports the tool we need - in this case a Python wrapper around the ExifTool\n",
    "import pyexifinfo as e\n"
   ]
  },
  {
   "cell_type": "markdown",
   "metadata": {},
   "source": [
    "We can get the metadata for a single file with this command - try changing the image to tux.svg (which is a different file)"
   ]
  },
  {
   "cell_type": "code",
   "execution_count": null,
   "metadata": {
    "collapsed": true
   },
   "outputs": [],
   "source": [
    "e.get_json('files/image-24bit-300ppi.bmp')"
   ]
  },
  {
   "cell_type": "markdown",
   "metadata": {},
   "source": [
    "## Conclusion\n",
    "You have reached the end of the notebook. Yadda yadda yaddah. [next](index.pynb)"
   ]
  }
 ],
 "metadata": {
  "kernelspec": {
   "display_name": "Python 2",
   "language": "python",
   "name": "python2"
  },
  "language_info": {
   "codemirror_mode": {
    "name": "ipython",
    "version": 2
   },
   "file_extension": ".py",
   "mimetype": "text/x-python",
   "name": "python",
   "nbconvert_exporter": "python",
   "pygments_lexer": "ipython2",
   "version": "2.7.13"
  }
 },
 "nbformat": 4,
 "nbformat_minor": 2
}
