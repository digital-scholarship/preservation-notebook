{
 "cells": [
  {
   "cell_type": "markdown",
   "metadata": {},
   "source": [
    "### Preservation Notebook\n",
    "\n",
    "This is a test to see if we can do some things with exiftool\n",
    "\n",
    "You can edit code here and the changes will run. To run a cell below you hit shift-enter (or shift-return)\n",
    "\n"
   ]
  },
  {
   "cell_type": "code",
   "execution_count": 1,
   "metadata": {
    "collapsed": true
   },
   "outputs": [],
   "source": [
    "## this imports the tool we need - in this case a Python wrapper around the ExifTool\n",
    "import pyexifinfo as e\n"
   ]
  },
  {
   "cell_type": "code",
   "execution_count": 3,
   "metadata": {},
   "outputs": [
    {
     "name": "stdout",
     "output_type": "stream",
     "text": [
      "['10.93']\n"
     ]
    }
   ],
   "source": [
    "print e.ver()"
   ]
  },
  {
   "cell_type": "code",
   "execution_count": 6,
   "metadata": {},
   "outputs": [
    {
     "data": {
      "text/plain": [
       "[{u'Composite:ImageSize': u'560x660',\n",
       "  u'Composite:Megapixels': 0.37,\n",
       "  u'ExifTool:ExifToolVersion': 10.93,\n",
       "  u'File:Directory': u'/Users/pneish/dev/latex',\n",
       "  u'File:FileAccessDate': u'2019:05:15 17:28:34+10:00',\n",
       "  u'File:FileInodeChangeDate': u'2019:05:15 17:28:32+10:00',\n",
       "  u'File:FileModifyDate': u'2019:05:15 17:28:22+10:00',\n",
       "  u'File:FileName': u'tux.png',\n",
       "  u'File:FilePermissions': u'rw-r--r--',\n",
       "  u'File:FileSize': u'85 kB',\n",
       "  u'File:FileType': u'PNG',\n",
       "  u'File:FileTypeExtension': u'png',\n",
       "  u'File:MIMEType': u'image/png',\n",
       "  u'PNG:BackgroundColor': u'255 255 255',\n",
       "  u'PNG:BitDepth': 8,\n",
       "  u'PNG:BlueX': 0.15,\n",
       "  u'PNG:BlueY': 0.06,\n",
       "  u'PNG:ColorType': u'RGB with Alpha',\n",
       "  u'PNG:Compression': u'Deflate/Inflate',\n",
       "  u'PNG:Filter': u'Adaptive',\n",
       "  u'PNG:Gamma': 2.2,\n",
       "  u'PNG:GreenX': 0.3,\n",
       "  u'PNG:GreenY': 0.6,\n",
       "  u'PNG:ImageHeight': 660,\n",
       "  u'PNG:ImageWidth': 560,\n",
       "  u'PNG:Interlace': u'Noninterlaced',\n",
       "  u'PNG:ModifyDate': u'2018:12:25 20:52:22',\n",
       "  u'PNG:RedX': 0.64,\n",
       "  u'PNG:RedY': 0.33,\n",
       "  u'PNG:WhitePointX': 0.3127,\n",
       "  u'PNG:WhitePointY': 0.329,\n",
       "  u'PNG:datecreate': u'2018-12-25T20:52:22+00:00',\n",
       "  u'PNG:datemodify': u'2018-12-25T20:52:22+00:00',\n",
       "  u'SourceFile': u'/Users/pneish/dev/latex/tux.png'}]"
      ]
     },
     "execution_count": 6,
     "metadata": {},
     "output_type": "execute_result"
    }
   ],
   "source": [
    "e.get_json('tux.png')"
   ]
  },
  {
   "cell_type": "code",
   "execution_count": null,
   "metadata": {
    "collapsed": true
   },
   "outputs": [],
   "source": []
  }
 ],
 "metadata": {
  "kernelspec": {
   "display_name": "Python 2",
   "language": "python",
   "name": "python2"
  },
  "language_info": {
   "codemirror_mode": {
    "name": "ipython",
    "version": 2
   },
   "file_extension": ".py",
   "mimetype": "text/x-python",
   "name": "python",
   "nbconvert_exporter": "python",
   "pygments_lexer": "ipython2",
   "version": "2.7.13"
  }
 },
 "nbformat": 4,
 "nbformat_minor": 2
}
